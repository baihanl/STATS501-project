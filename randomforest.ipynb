{
 "cells": [
  {
   "cell_type": "code",
   "execution_count": 57,
   "id": "0daa333b-2a42-4a23-9b98-302d1f78c682",
   "metadata": {},
   "outputs": [],
   "source": [
    "import numpy as np\n",
    "import pandas as pd\n",
    "import matplotlib.pyplot as plt\n",
    "from sklearn.metrics import accuracy_score\n",
    "from sklearn.metrics import confusion_matrix, roc_curve, auc, roc_auc_score, f1_score, precision_score, recall_score, balanced_accuracy_score,log_loss\n",
    "from sklearn.preprocessing import StandardScaler"
   ]
  },
  {
   "cell_type": "code",
   "execution_count": 8,
   "id": "bc354144-bdf6-41b4-b8ee-2f419a30384b",
   "metadata": {},
   "outputs": [],
   "source": [
    "train = pd.read_csv(\"Churn_data_train.csv\").drop('Unnamed: 0',axis=1)\n",
    "test = pd.read_csv(\"Churn_data_test.csv\").drop('Unnamed: 0',axis=1)"
   ]
  },
  {
   "cell_type": "code",
   "execution_count": 54,
   "id": "5d0b866e-8f74-409f-9166-5f029d08ee2d",
   "metadata": {},
   "outputs": [
    {
     "data": {
      "text/plain": [
       "(8236, 24)"
      ]
     },
     "execution_count": 54,
     "metadata": {},
     "output_type": "execute_result"
    }
   ],
   "source": [
    "train.shape"
   ]
  },
  {
   "cell_type": "code",
   "execution_count": 10,
   "id": "6de40c90-efe9-4738-af48-bc27fc449a2c",
   "metadata": {},
   "outputs": [],
   "source": [
    "y_train = train[['Churn']]\n",
    "y_test = test[['Churn']]\n",
    "X_train = train.drop('Churn',axis = 1)\n",
    "X_test = test.drop('Churn',axis = 1)"
   ]
  },
  {
   "cell_type": "code",
   "execution_count": 56,
   "id": "cceef68a-83b3-4231-be8b-fce2783a92fc",
   "metadata": {},
   "outputs": [
    {
     "data": {
      "text/plain": [
       "Index(['gender_Male', 'SeniorCitizen_1', 'Partner_Yes', 'Dependents_Yes',\n",
       "       'PhoneService_Yes', 'MultipleLines_Yes', 'InternetService_Fiber optic',\n",
       "       'InternetService_No', 'OnlineSecurity_Yes', 'OnlineBackup_Yes',\n",
       "       'DeviceProtection_Yes', 'TechSupport_Yes', 'StreamingTV_Yes',\n",
       "       'StreamingMovies_Yes', 'Contract_One year', 'Contract_Two year',\n",
       "       'PaperlessBilling_Yes', 'PaymentMethod_Credit card (automatic)',\n",
       "       'PaymentMethod_Electronic check', 'PaymentMethod_Mailed check',\n",
       "       'tenure', 'MonthlyCharges', 'Age'],\n",
       "      dtype='object')"
      ]
     },
     "execution_count": 56,
     "metadata": {},
     "output_type": "execute_result"
    }
   ],
   "source": [
    "X_train.columns"
   ]
  },
  {
   "cell_type": "code",
   "execution_count": 33,
   "id": "ba6a1810-6be5-4758-9bb2-9cc2efd9279d",
   "metadata": {},
   "outputs": [],
   "source": [
    "from sklearn.ensemble import RandomForestClassifier\n",
    "from sklearn.model_selection import GridSearchCV\n",
    "from sklearn.model_selection import KFold"
   ]
  },
  {
   "cell_type": "markdown",
   "id": "dfeebf3b-d7e3-4c61-9322-107fc11c21eb",
   "metadata": {},
   "source": [
    "Since Random Forest method can automatically balance data sets when a class is less frequent than others, we don't use SMOTE in this model."
   ]
  },
  {
   "cell_type": "code",
   "execution_count": 31,
   "id": "5ef0bd3b-24ef-47f5-88cb-70b570df26ed",
   "metadata": {},
   "outputs": [
    {
     "name": "stderr",
     "output_type": "stream",
     "text": [
      "/var/folders/s1/1d0mf_6953gg1sfyjq5dqtw40000gn/T/ipykernel_15591/3047738923.py:2: DataConversionWarning: A column-vector y was passed when a 1d array was expected. Please change the shape of y to (n_samples,), for example using ravel().\n",
      "  rf.fit(X_train, y_train)\n"
     ]
    },
    {
     "data": {
      "text/plain": [
       "0.2174840085287847"
      ]
     },
     "execution_count": 31,
     "metadata": {},
     "output_type": "execute_result"
    }
   ],
   "source": [
    "rf = RandomForestClassifier(random_state=0)\n",
    "rf.fit(X_train, y_train)\n",
    "accuracy = rf.score(X_test, y_test)\n",
    "test_error_rf = 1 - accuracy\n",
    "test_error_rf"
   ]
  },
  {
   "cell_type": "code",
   "execution_count": 13,
   "id": "b568c605-c6ca-4cc5-a5e8-4c7a1c18669b",
   "metadata": {},
   "outputs": [
    {
     "data": {
      "text/plain": [
       "array([[883, 162],\n",
       "       [144, 218]])"
      ]
     },
     "execution_count": 13,
     "metadata": {},
     "output_type": "execute_result"
    }
   ],
   "source": [
    "y_pred = rf.predict(X_test)\n",
    "y_prob = rf.predict_proba(X_test)\n",
    "tn, fp, fn, tp = confusion_matrix(y_test, y_pred).ravel()\n",
    "confusion_matrix(y_test, y_pred)"
   ]
  },
  {
   "cell_type": "code",
   "execution_count": 58,
   "id": "9939b2b9-b024-4fe8-909c-e9461ccbdab5",
   "metadata": {},
   "outputs": [
    {
     "name": "stdout",
     "output_type": "stream",
     "text": [
      "AUC score: 0.7236\n",
      "BER score: 0.2764\n",
      "F1 score: 0.5876\n",
      "Recall score: 0.6022\n",
      "Precision score: 0.5737\n",
      "Log loss: 7.5117\n"
     ]
    }
   ],
   "source": [
    "# Evaluate the model on the testing set\n",
    "y_pred = rf.predict(X_test)\n",
    "y_pred_binary = [1 if p >= 0.5 else 0 for p in y_pred]\n",
    "\n",
    "# Calculate evaluation metrics\n",
    "auc_score = roc_auc_score(y_test, y_pred)\n",
    "ber_score = 1 - balanced_accuracy_score(y_test, y_pred_binary)\n",
    "f1 = f1_score(y_test, y_pred_binary)\n",
    "recall = recall_score(y_test, y_pred_binary)\n",
    "precision = precision_score(y_test, y_pred_binary)\n",
    "logloss = log_loss(y_test, y_pred)\n",
    "\n",
    "# Print the evaluation metrics\n",
    "print(\"AUC score: {:.4f}\".format(auc_score))\n",
    "print(\"BER score: {:.4f}\".format(ber_score))\n",
    "print(\"F1 score: {:.4f}\".format(f1))\n",
    "print(\"Recall score: {:.4f}\".format(recall))\n",
    "print(\"Precision score: {:.4f}\".format(precision))\n",
    "print(\"Log loss: {:.4f}\".format(logloss))\n",
    "\n",
    "# Plot the feature importance\n",
    "plt.show()"
   ]
  },
  {
   "cell_type": "markdown",
   "id": "cdeba15c-8cfb-4574-a846-5560b15be22f",
   "metadata": {},
   "source": [
    "Next, we initialize a RandomForestClassifier and set up a cross-validation scheme and hyperparameter grid for model tuning."
   ]
  },
  {
   "cell_type": "code",
   "execution_count": 20,
   "id": "c1214123-41f4-47ec-82c9-2e1ebf45a052",
   "metadata": {},
   "outputs": [],
   "source": [
    "rfc = RandomForestClassifier(random_state=44) "
   ]
  },
  {
   "cell_type": "code",
   "execution_count": 59,
   "id": "d2175116-b9d6-4f44-b637-482a73695995",
   "metadata": {},
   "outputs": [],
   "source": [
    "folds = KFold(n_splits = 5, shuffle = True, random_state = 14)\n",
    "hyper_params = { \n",
    "    'n_estimators': [50, 200],\n",
    "    'max_features': ['sqrt', 'log2'],\n",
    "    'max_depth' : [4,8, 12]\n",
    "}"
   ]
  },
  {
   "cell_type": "code",
   "execution_count": 60,
   "id": "7f228493-69ea-47bf-bb1c-aa8878f12bf8",
   "metadata": {
    "collapsed": true,
    "jupyter": {
     "outputs_hidden": true
    },
    "tags": []
   },
   "outputs": [
    {
     "name": "stdout",
     "output_type": "stream",
     "text": [
      "Fitting 5 folds for each of 12 candidates, totalling 60 fits\n"
     ]
    },
    {
     "name": "stderr",
     "output_type": "stream",
     "text": [
      "exception calling callback for <Future at 0x7fde58bbe9a0 state=finished raised BrokenProcessPool>\n",
      "joblib.externals.loky.process_executor._RemoteTraceback: \n",
      "\"\"\"\n",
      "Traceback (most recent call last):\n",
      "  File \"/Users/meredithwang/opt/anaconda3/lib/python3.9/site-packages/joblib/externals/loky/process_executor.py\", line 426, in _process_worker\n",
      "    call_item = call_queue.get(block=True, timeout=timeout)\n",
      "  File \"/Users/meredithwang/opt/anaconda3/lib/python3.9/multiprocessing/queues.py\", line 122, in get\n",
      "    return _ForkingPickler.loads(res)\n",
      "AttributeError: Can't get attribute 'SafeFunction' on <module 'joblib._parallel_backends' from '/Users/meredithwang/opt/anaconda3/lib/python3.9/site-packages/joblib/_parallel_backends.py'>\n",
      "\"\"\"\n",
      "\n",
      "The above exception was the direct cause of the following exception:\n",
      "\n",
      "Traceback (most recent call last):\n",
      "  File \"/Users/meredithwang/opt/anaconda3/lib/python3.9/site-packages/joblib/externals/loky/_base.py\", line 625, in _invoke_callbacks\n",
      "  File \"/Users/meredithwang/opt/anaconda3/lib/python3.9/site-packages/joblib/parallel.py\", line 359, in __call__\n",
      "    **backend_params\n",
      "  File \"/Users/meredithwang/opt/anaconda3/lib/python3.9/site-packages/joblib/parallel.py\", line 794, in dispatch_next\n",
      "    # registers the task outcome (TASK_ERROR or TASK_DONE), and schedules\n",
      "  File \"/Users/meredithwang/opt/anaconda3/lib/python3.9/site-packages/joblib/parallel.py\", line 861, in dispatch_one_batch\n",
      "    with self.parallel._lock:\n",
      "  File \"/Users/meredithwang/opt/anaconda3/lib/python3.9/site-packages/joblib/parallel.py\", line 779, in _dispatch\n",
      "  File \"/Users/meredithwang/opt/anaconda3/lib/python3.9/site-packages/joblib/_parallel_backends.py\", line 531, in apply_async\n",
      "    \"\"\"Shutdown the process or thread pool\"\"\"\n",
      "  File \"/Users/meredithwang/opt/anaconda3/lib/python3.9/site-packages/joblib/externals/loky/reusable_executor.py\", line 177, in submit\n",
      "    mp.util.debug(\n",
      "  File \"/Users/meredithwang/opt/anaconda3/lib/python3.9/site-packages/joblib/externals/loky/process_executor.py\", line 1115, in submit\n",
      "    # of the main loop of executor_manager_thread from another thread (e.g.\n",
      "joblib.externals.loky.process_executor.BrokenProcessPool: A task has failed to un-serialize. Please ensure that the arguments of the function are all picklable.\n"
     ]
    },
    {
     "name": "stdout",
     "output_type": "stream",
     "text": [
      "Unexpected exception formatting exception. Falling back to standard exception\n"
     ]
    },
    {
     "name": "stderr",
     "output_type": "stream",
     "text": [
      "joblib.externals.loky.process_executor._RemoteTraceback: \n",
      "\"\"\"\n",
      "Traceback (most recent call last):\n",
      "  File \"/Users/meredithwang/opt/anaconda3/lib/python3.9/site-packages/joblib/externals/loky/process_executor.py\", line 426, in _process_worker\n",
      "    call_item = call_queue.get(block=True, timeout=timeout)\n",
      "  File \"/Users/meredithwang/opt/anaconda3/lib/python3.9/multiprocessing/queues.py\", line 122, in get\n",
      "    return _ForkingPickler.loads(res)\n",
      "AttributeError: Can't get attribute 'SafeFunction' on <module 'joblib._parallel_backends' from '/Users/meredithwang/opt/anaconda3/lib/python3.9/site-packages/joblib/_parallel_backends.py'>\n",
      "\"\"\"\n",
      "\n",
      "The above exception was the direct cause of the following exception:\n",
      "\n",
      "Traceback (most recent call last):\n",
      "  File \"/Users/meredithwang/opt/anaconda3/lib/python3.9/site-packages/IPython/core/interactiveshell.py\", line 3369, in run_code\n",
      "    exec(code_obj, self.user_global_ns, self.user_ns)\n",
      "  File \"/var/folders/s1/1d0mf_6953gg1sfyjq5dqtw40000gn/T/ipykernel_14720/3921801133.py\", line 7, in <cell line: 7>\n",
      "    CV_rfc.fit(X_train, y_train)\n",
      "  File \"/Users/meredithwang/opt/anaconda3/lib/python3.9/site-packages/sklearn/model_selection/_search.py\", line 891, in fit\n",
      "    self._run_search(evaluate_candidates)\n",
      "  File \"/Users/meredithwang/opt/anaconda3/lib/python3.9/site-packages/sklearn/model_selection/_search.py\", line 1392, in _run_search\n",
      "    evaluate_candidates(ParameterGrid(self.param_grid))\n",
      "  File \"/Users/meredithwang/opt/anaconda3/lib/python3.9/site-packages/sklearn/model_selection/_search.py\", line 838, in evaluate_candidates\n",
      "    out = parallel(\n",
      "  File \"/Users/meredithwang/opt/anaconda3/lib/python3.9/site-packages/joblib/parallel.py\", line 1056, in __call__\n",
      "  File \"/Users/meredithwang/opt/anaconda3/lib/python3.9/site-packages/joblib/parallel.py\", line 935, in retrieve\n",
      "    Read more in the :ref:`User Guide <parallel>`.\n",
      "  File \"/Users/meredithwang/opt/anaconda3/lib/python3.9/site-packages/joblib/_parallel_backends.py\", line 542, in wrap_future_result\n",
      "    def configure(self, n_jobs=1, parallel=None, prefer=None, require=None,\n",
      "  File \"/Users/meredithwang/opt/anaconda3/lib/python3.9/concurrent/futures/_base.py\", line 446, in result\n",
      "    return self.__get_result()\n",
      "  File \"/Users/meredithwang/opt/anaconda3/lib/python3.9/concurrent/futures/_base.py\", line 391, in __get_result\n",
      "    raise self._exception\n",
      "  File \"/Users/meredithwang/opt/anaconda3/lib/python3.9/site-packages/joblib/externals/loky/_base.py\", line 625, in _invoke_callbacks\n",
      "  File \"/Users/meredithwang/opt/anaconda3/lib/python3.9/site-packages/joblib/parallel.py\", line 359, in __call__\n",
      "    **backend_params\n",
      "  File \"/Users/meredithwang/opt/anaconda3/lib/python3.9/site-packages/joblib/parallel.py\", line 794, in dispatch_next\n",
      "    # registers the task outcome (TASK_ERROR or TASK_DONE), and schedules\n",
      "  File \"/Users/meredithwang/opt/anaconda3/lib/python3.9/site-packages/joblib/parallel.py\", line 861, in dispatch_one_batch\n",
      "    with self.parallel._lock:\n",
      "  File \"/Users/meredithwang/opt/anaconda3/lib/python3.9/site-packages/joblib/parallel.py\", line 779, in _dispatch\n",
      "  File \"/Users/meredithwang/opt/anaconda3/lib/python3.9/site-packages/joblib/_parallel_backends.py\", line 531, in apply_async\n",
      "    \"\"\"Shutdown the process or thread pool\"\"\"\n",
      "  File \"/Users/meredithwang/opt/anaconda3/lib/python3.9/site-packages/joblib/externals/loky/reusable_executor.py\", line 177, in submit\n",
      "    mp.util.debug(\n",
      "  File \"/Users/meredithwang/opt/anaconda3/lib/python3.9/site-packages/joblib/externals/loky/process_executor.py\", line 1115, in submit\n",
      "    # of the main loop of executor_manager_thread from another thread (e.g.\n",
      "joblib.externals.loky.process_executor.BrokenProcessPool: A task has failed to un-serialize. Please ensure that the arguments of the function are all picklable.\n",
      "\n",
      "During handling of the above exception, another exception occurred:\n",
      "\n",
      "Traceback (most recent call last):\n",
      "  File \"/Users/meredithwang/opt/anaconda3/lib/python3.9/site-packages/IPython/core/interactiveshell.py\", line 1982, in showtraceback\n",
      "    stb = self.InteractiveTB.structured_traceback(\n",
      "  File \"/Users/meredithwang/opt/anaconda3/lib/python3.9/site-packages/IPython/core/ultratb.py\", line 1118, in structured_traceback\n",
      "    return FormattedTB.structured_traceback(\n",
      "  File \"/Users/meredithwang/opt/anaconda3/lib/python3.9/site-packages/IPython/core/ultratb.py\", line 1012, in structured_traceback\n",
      "    return VerboseTB.structured_traceback(\n",
      "  File \"/Users/meredithwang/opt/anaconda3/lib/python3.9/site-packages/IPython/core/ultratb.py\", line 865, in structured_traceback\n",
      "    formatted_exception = self.format_exception_as_a_whole(etype, evalue, etb, number_of_lines_of_context,\n",
      "  File \"/Users/meredithwang/opt/anaconda3/lib/python3.9/site-packages/IPython/core/ultratb.py\", line 818, in format_exception_as_a_whole\n",
      "    frames.append(self.format_record(r))\n",
      "  File \"/Users/meredithwang/opt/anaconda3/lib/python3.9/site-packages/IPython/core/ultratb.py\", line 736, in format_record\n",
      "    result += ''.join(_format_traceback_lines(frame_info.lines, Colors, self.has_colors, lvals))\n",
      "  File \"/Users/meredithwang/opt/anaconda3/lib/python3.9/site-packages/stack_data/utils.py\", line 145, in cached_property_wrapper\n",
      "    value = obj.__dict__[self.func.__name__] = self.func(obj)\n",
      "  File \"/Users/meredithwang/opt/anaconda3/lib/python3.9/site-packages/stack_data/core.py\", line 698, in lines\n",
      "    pieces = self.included_pieces\n",
      "  File \"/Users/meredithwang/opt/anaconda3/lib/python3.9/site-packages/stack_data/utils.py\", line 145, in cached_property_wrapper\n",
      "    value = obj.__dict__[self.func.__name__] = self.func(obj)\n",
      "  File \"/Users/meredithwang/opt/anaconda3/lib/python3.9/site-packages/stack_data/core.py\", line 649, in included_pieces\n",
      "    pos = scope_pieces.index(self.executing_piece)\n",
      "  File \"/Users/meredithwang/opt/anaconda3/lib/python3.9/site-packages/stack_data/utils.py\", line 145, in cached_property_wrapper\n",
      "    value = obj.__dict__[self.func.__name__] = self.func(obj)\n",
      "  File \"/Users/meredithwang/opt/anaconda3/lib/python3.9/site-packages/stack_data/core.py\", line 628, in executing_piece\n",
      "    return only(\n",
      "  File \"/Users/meredithwang/opt/anaconda3/lib/python3.9/site-packages/executing/executing.py\", line 164, in only\n",
      "    raise NotOneValueFound('Expected one value, found 0')\n",
      "executing.executing.NotOneValueFound: Expected one value, found 0\n"
     ]
    }
   ],
   "source": [
    "CV_rfc = GridSearchCV(estimator=rfc, \n",
    "                      param_grid= hyper_params, \n",
    "                      cv= folds, \n",
    "                      scoring='roc_auc',\n",
    "                      n_jobs = -1,\n",
    "                      verbose = 10)\n",
    "CV_rfc.fit(X_train, y_train)"
   ]
  },
  {
   "cell_type": "code",
   "execution_count": 23,
   "id": "bb91f798-f20c-4e99-9fea-e943b3ded622",
   "metadata": {},
   "outputs": [
    {
     "data": {
      "text/plain": [
       "{'max_depth': 12, 'max_features': 'sqrt', 'n_estimators': 200}"
      ]
     },
     "execution_count": 23,
     "metadata": {},
     "output_type": "execute_result"
    }
   ],
   "source": [
    "CV_rfc.best_params_"
   ]
  },
  {
   "cell_type": "code",
   "execution_count": 24,
   "id": "219427ec-ac3c-4f79-a786-260076b050a2",
   "metadata": {},
   "outputs": [
    {
     "name": "stderr",
     "output_type": "stream",
     "text": [
      "/var/folders/s1/1d0mf_6953gg1sfyjq5dqtw40000gn/T/ipykernel_15591/2498804293.py:3: DataConversionWarning: A column-vector y was passed when a 1d array was expected. Please change the shape of y to (n_samples,), for example using ravel().\n",
      "  rf.fit(X_train, y_train)\n"
     ]
    },
    {
     "data": {
      "text/plain": [
       "array([[841, 204],\n",
       "       [113, 249]])"
      ]
     },
     "execution_count": 24,
     "metadata": {},
     "output_type": "execute_result"
    }
   ],
   "source": [
    "# use the parameter found\n",
    "rf = RandomForestClassifier(random_state=10, n_estimators = 200, max_features='sqrt', max_depth=12)\n",
    "rf.fit(X_train, y_train)\n",
    "\n",
    "y_pred = rf.predict(X_test)\n",
    "y_prob = rf.predict_proba(X_test)\n",
    "tn, fp, fn, tp = confusion_matrix(y_test, y_pred).ravel()\n",
    "confusion_matrix(y_test, y_pred)"
   ]
  },
  {
   "cell_type": "code",
   "execution_count": 26,
   "id": "bede036d-5788-4305-a35f-8b0d73d595a2",
   "metadata": {},
   "outputs": [
    {
     "data": {
      "text/plain": [
       "0.8305479922810542"
      ]
     },
     "execution_count": 26,
     "metadata": {},
     "output_type": "execute_result"
    }
   ],
   "source": [
    "# Compute the True Positive Rate and the False Ppositive Rate\n",
    "fpr, tpr, thresholds = roc_curve(y_test, y_prob[:,1], pos_label=1.0)\n",
    "roc_auc =  auc(fpr, tpr)\n",
    "roc_auc"
   ]
  },
  {
   "cell_type": "code",
   "execution_count": 27,
   "id": "9816f2e6-b350-42b8-83ec-312588f7a10a",
   "metadata": {},
   "outputs": [
    {
     "data": {
      "image/png": "[encoded data removed]",
      "text/plain": [
       "<Figure size 432x288 with 1 Axes>"
      ]
     },
     "metadata": {
      "needs_background": "light"
     },
     "output_type": "display_data"
    }
   ],
   "source": [
    "# Plot ROC\n",
    "plt.plot(fpr,tpr,label= 'AUC = %0.2f' % roc_auc)\n",
    "plt.plot([0, 1], [0, 1],'--')  # plot a diagonal line from the lower left to the upper right\n",
    "plt.ylabel('True Positive Rate (TPR)')\n",
    "plt.xlabel('False Positive Rate (FPR)')\n",
    "plt.title('Receiver Operating Characteristic (ROC)')\n",
    "plt.legend(loc = 'lower right')\n",
    "plt.show()"
   ]
  },
  {
   "cell_type": "code",
   "execution_count": 28,
   "id": "4be0c40a-f44f-429a-8198-21aff03ead23",
   "metadata": {},
   "outputs": [
    {
     "data": {
      "image/png": "[encoded data removed]",
      "text/plain": [
       "<Figure size 720x864 with 1 Axes>"
      ]
     },
     "metadata": {
      "needs_background": "light"
     },
     "output_type": "display_data"
    }
   ],
   "source": [
    "importances = rf.feature_importances_\n",
    "forest_importances = pd.Series(importances, index= rf.feature_names_in_)\n",
    "\n",
    "plt.figure(figsize=(10,12))\n",
    "forest_importances.sort_values(ascending = True).plot.barh()\n",
    "plt.ylabel(\"Mean decrease in impurity\")\n",
    "plt.show()"
   ]
  },
  {
   "cell_type": "code",
   "execution_count": null,
   "id": "41e2770a-3552-498b-96b1-45378349ebfc",
   "metadata": {},
   "outputs": [],
   "source": []
  },
  {
   "cell_type": "code",
   "execution_count": null,
   "id": "84356ae2-85d2-465b-8f5c-9d8285bda578",
   "metadata": {},
   "outputs": [],
   "source": []
  },
  {
   "cell_type": "code",
   "execution_count": null,
   "id": "d2ffac49-55d6-49df-87f9-fc6973f3ece4",
   "metadata": {},
   "outputs": [],
   "source": []
  }
 ],
 "metadata": {
  "kernelspec": {
   "display_name": "Python 3 (ipykernel)",
   "language": "python",
   "name": "python3"
  },
  "language_info": {
   "codemirror_mode": {
    "name": "ipython",
    "version": 3
   },
   "file_extension": ".py",
   "mimetype": "text/x-python",
   "name": "python",
   "nbconvert_exporter": "python",
   "pygments_lexer": "ipython3",
   "version": "3.9.12"
  }
 },
 "nbformat": 4,
 "nbformat_minor": 5
}
